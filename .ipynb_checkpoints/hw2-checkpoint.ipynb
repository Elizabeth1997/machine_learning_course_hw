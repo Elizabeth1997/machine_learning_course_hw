{
 "cells": [
  {
   "cell_type": "markdown",
   "metadata": {},
   "source": [
    "### Name: Chenxin Xiong \n",
    "### KAUST ID: 168449"
   ]
  },
  {
   "cell_type": "code",
   "execution_count": 209,
   "metadata": {},
   "outputs": [],
   "source": [
    "import numpy as np\n",
    "import numpy as np\n",
    "import matplotlib.pyplot as plt\n",
    "from scipy.stats import multivariate_normal\n",
    "from mpl_toolkits.mplot3d import Axes3D"
   ]
  },
  {
   "cell_type": "markdown",
   "metadata": {},
   "source": [
    "### generate 20 points by -0.3 * x + 0.5 + noise (follows Gaussian distribution whose mean is 0 and standard deviation is 0.2)"
   ]
  },
  {
   "cell_type": "code",
   "execution_count": 210,
   "metadata": {},
   "outputs": [],
   "source": [
    "number_of_points = 20\n",
    "a0 = 0.5\n",
    "a1= -0.3\n",
    "x_input = np.random.uniform(-1,1,number_of_points)\n",
    "# first para: mean; second standard deviation\n",
    "noise = np.random.normal(0, 0.2, number_of_points)"
   ]
  },
  {
   "cell_type": "code",
   "execution_count": 211,
   "metadata": {},
   "outputs": [],
   "source": [
    "target = a0 + a1*x_input + noise"
   ]
  },
  {
   "cell_type": "code",
   "execution_count": 212,
   "metadata": {},
   "outputs": [
    {
     "data": {
      "text/plain": [
       "array([0.72099863, 0.50744671, 0.80458183, 0.55714652, 0.46925876,\n",
       "       0.59415538, 0.5100607 , 0.58766975, 0.24236736, 0.40586828,\n",
       "       0.22520979, 0.06656878, 1.18227908, 0.43000842, 0.3394652 ,\n",
       "       0.25682051, 0.04753182, 0.50775433, 0.42239645, 0.33105046])"
      ]
     },
     "execution_count": 212,
     "metadata": {},
     "output_type": "execute_result"
    }
   ],
   "source": [
    "target"
   ]
  },
  {
   "cell_type": "markdown",
   "metadata": {},
   "source": [
    "### visualize the points generated"
   ]
  },
  {
   "cell_type": "code",
   "execution_count": 213,
   "metadata": {},
   "outputs": [
    {
     "data": {
      "text/plain": [
       "Text(0, 0.5, 'y')"
      ]
     },
     "execution_count": 213,
     "metadata": {},
     "output_type": "execute_result"
    },
    {
     "data": {
      "image/png": "[encoded data removed]",
      "text/plain": [
       "<Figure size 432x288 with 1 Axes>"
      ]
     },
     "metadata": {
      "needs_background": "light"
     },
     "output_type": "display_data"
    }
   ],
   "source": [
    "plt.scatter(x=x_input, y=target)\n",
    "plt.xlabel('x')\n",
    "plt.ylabel('y')"
   ]
  },
  {
   "cell_type": "markdown",
   "metadata": {},
   "source": [
    "### add one additional dimension for bias term"
   ]
  },
  {
   "cell_type": "code",
   "execution_count": 245,
   "metadata": {},
   "outputs": [],
   "source": [
    "input_point = np.array([np.ones_like(x_input), x_input]).transpose()"
   ]
  },
  {
   "cell_type": "code",
   "execution_count": 246,
   "metadata": {},
   "outputs": [
    {
     "data": {
      "text/plain": [
       "(20, 2)"
      ]
     },
     "execution_count": 246,
     "metadata": {},
     "output_type": "execute_result"
    }
   ],
   "source": [
    "input_point.shape"
   ]
  },
  {
   "cell_type": "markdown",
   "metadata": {},
   "source": [
    "### sequential Bayesian learning"
   ]
  },
  {
   "cell_type": "code",
   "execution_count": 214,
   "metadata": {},
   "outputs": [],
   "source": [
    "beta = (1/0.2)**2"
   ]
  },
  {
   "cell_type": "code",
   "execution_count": 258,
   "metadata": {},
   "outputs": [],
   "source": [
    "alpha = 2.0"
   ]
  },
  {
   "cell_type": "code",
   "execution_count": 240,
   "metadata": {},
   "outputs": [],
   "source": [
    "no_of_samples = 6"
   ]
  },
  {
   "cell_type": "markdown",
   "metadata": {},
   "source": [
    "### plot the prior distribution"
   ]
  },
  {
   "cell_type": "code",
   "execution_count": null,
   "metadata": {},
   "outputs": [],
   "source": [
    "x, y = np.mgrid[-1:1:0.01, -1:1:0.01]\n",
    "mean = [0, 0]\n",
    "covariance = [[1, 0], [0, 1]]\n",
    "pos = np.empty(x.shape + (2,))\n",
    "pos[:, :, 0] = x; pos[:, :, 1] = y\n",
    "rv = multivariate_normal(mean, covariance)"
   ]
  },
  {
   "cell_type": "code",
   "execution_count": 339,
   "metadata": {},
   "outputs": [
    {
     "data": {
      "text/plain": [
       "<matplotlib.contour.QuadContourSet at 0x7f69ec08bed0>"
      ]
     },
     "execution_count": 339,
     "metadata": {},
     "output_type": "execute_result"
    },
    {
     "data": {
      "image/png": "[encoded data removed]",
      "text/plain": [
       "<Figure size 432x288 with 1 Axes>"
      ]
     },
     "metadata": {
      "needs_background": "light"
     },
     "output_type": "display_data"
    }
   ],
   "source": [
    "plt.xlabel('w0')\n",
    "plt.ylabel('w1')\n",
    "plt.contourf(x, y, rv.pdf(pos))"
   ]
  },
  {
   "cell_type": "markdown",
   "metadata": {},
   "source": [
    "### function used to plot the data space"
   ]
  },
  {
   "cell_type": "code",
   "execution_count": 320,
   "metadata": {},
   "outputs": [],
   "source": [
    "def plot_data_space(mean, covariance, x_input, no_of_samples):\n",
    "    samples_list = np.random.multivariate_normal(mean, covariance, no_of_samples)\n",
    "    for i in range(no_of_samples):\n",
    "        plt.plot(x_input, np.matmul(samples_list[i], input_point.transpose()))\n",
    "    plt.xlabel('x')\n",
    "    plt.ylabel('y')"
   ]
  },
  {
   "cell_type": "code",
   "execution_count": 334,
   "metadata": {},
   "outputs": [],
   "source": [
    "def cal_mean_covariance_and_plot(alpha, beta, input_x, target, x_input, no_of_samples):\n",
    "    try:\n",
    "        input_x = input_x.reshape(len(input_x),2)\n",
    "        target = target.reshape(len(target),1)\n",
    "    except:\n",
    "        input_x = input_x.reshape(1,2)\n",
    "        target = target.reshape(1,1)\n",
    "    covariance_inverse = alpha * np.identity(2) + beta * np.matmul(input_x.transpose(), input_x)\n",
    "    covariance = np.linalg.inv(covariance_inverse)\n",
    "    mean = beta * np.matmul(np.matmul(covariance,input_x.transpose()),target).squeeze()\n",
    "    samples_list = np.random.multivariate_normal(mean, covariance, no_of_samples)\n",
    "    for i in range(no_of_samples):\n",
    "        plt.plot(x_input, np.matmul(samples_list[i], input_point.transpose()))\n",
    "    for j in range(len(target)):\n",
    "        plt.scatter(x=x_input[j], y=target[j])\n",
    "    plt.xlabel('x')\n",
    "    plt.ylabel('y')"
   ]
  },
  {
   "cell_type": "markdown",
   "metadata": {},
   "source": [
    "### sample 6 and show the data space"
   ]
  },
  {
   "cell_type": "code",
   "execution_count": 319,
   "metadata": {},
   "outputs": [
    {
     "data": {
      "image/png": "[encoded data removed]",
      "text/plain": [
       "<Figure size 432x288 with 1 Axes>"
      ]
     },
     "metadata": {
      "needs_background": "light"
     },
     "output_type": "display_data"
    }
   ],
   "source": [
    "plot_data_space(mean, covariance, x_input, no_of_samples)"
   ]
  },
  {
   "cell_type": "markdown",
   "metadata": {},
   "source": [
    "### obtain the first point "
   ]
  },
  {
   "cell_type": "code",
   "execution_count": 217,
   "metadata": {},
   "outputs": [
    {
     "data": {
      "text/plain": [
       "array([[1.       , 0.2308964]])"
      ]
     },
     "execution_count": 217,
     "metadata": {},
     "output_type": "execute_result"
    }
   ],
   "source": [
    "input_point[0].reshape(1,2)"
   ]
  },
  {
   "cell_type": "code",
   "execution_count": 219,
   "metadata": {},
   "outputs": [
    {
     "data": {
      "text/plain": [
       "0.7209986265041153"
      ]
     },
     "execution_count": 219,
     "metadata": {},
     "output_type": "execute_result"
    }
   ],
   "source": [
    "target[0]"
   ]
  },
  {
   "cell_type": "code",
   "execution_count": 220,
   "metadata": {},
   "outputs": [],
   "source": [
    "x_reshape = x.reshape(1,200*200)"
   ]
  },
  {
   "cell_type": "code",
   "execution_count": 221,
   "metadata": {},
   "outputs": [],
   "source": [
    "y_reshape = y.reshape(1,200*200)"
   ]
  },
  {
   "cell_type": "code",
   "execution_count": 222,
   "metadata": {},
   "outputs": [],
   "source": [
    "w = np.concatenate((y_reshape, x_reshape),axis=0)"
   ]
  },
  {
   "cell_type": "code",
   "execution_count": 223,
   "metadata": {},
   "outputs": [
    {
     "data": {
      "text/plain": [
       "(2, 40000)"
      ]
     },
     "execution_count": 223,
     "metadata": {},
     "output_type": "execute_result"
    }
   ],
   "source": [
    "w.shape"
   ]
  },
  {
   "cell_type": "code",
   "execution_count": 224,
   "metadata": {},
   "outputs": [
    {
     "data": {
      "text/plain": [
       "array([[-1.  , -0.99, -0.98, ...,  0.97,  0.98,  0.99],\n",
       "       [-1.  , -1.  , -1.  , ...,  0.99,  0.99,  0.99]])"
      ]
     },
     "execution_count": 224,
     "metadata": {},
     "output_type": "execute_result"
    }
   ],
   "source": [
    "w"
   ]
  },
  {
   "cell_type": "markdown",
   "metadata": {},
   "source": [
    "### calculate likelihood of first point"
   ]
  },
  {
   "cell_type": "code",
   "execution_count": 225,
   "metadata": {},
   "outputs": [],
   "source": [
    "def cal_likelihood(inp, weight, target, beta):\n",
    "    print('x: {}, target: {}'.format(inp, target))\n",
    "    error = target - np.matmul(inp, weight)\n",
    "    likelihood = np.exp(-(beta/2)*(error**2))\n",
    "    return likelihood.reshape(200,200)"
   ]
  },
  {
   "cell_type": "code",
   "execution_count": 226,
   "metadata": {},
   "outputs": [
    {
     "name": "stdout",
     "output_type": "stream",
     "text": [
      "x: [[1.        0.2308964]], target: 0.7209986265041153\n"
     ]
    }
   ],
   "source": [
    "likelihood = cal_likelihood(input_point[0].reshape(1,2), w, target[0], beta)"
   ]
  },
  {
   "cell_type": "code",
   "execution_count": 322,
   "metadata": {},
   "outputs": [
    {
     "data": {
      "text/plain": [
       "<matplotlib.contour.QuadContourSet at 0x7f69ec896a90>"
      ]
     },
     "execution_count": 322,
     "metadata": {},
     "output_type": "execute_result"
    },
    {
     "data": {
      "image/png": "[encoded data removed]",
      "text/plain": [
       "<Figure size 432x288 with 1 Axes>"
      ]
     },
     "metadata": {
      "needs_background": "light"
     },
     "output_type": "display_data"
    }
   ],
   "source": [
    "plt.xlabel('w0')\n",
    "plt.ylabel('w1')\n",
    "plt.contourf(x, y, likelihood)"
   ]
  },
  {
   "cell_type": "markdown",
   "metadata": {},
   "source": [
    "### obtain posterior by multiplying prior and likelihood"
   ]
  },
  {
   "cell_type": "code",
   "execution_count": 228,
   "metadata": {},
   "outputs": [],
   "source": [
    "# normalize\n",
    "posterior = likelihood*rv.pdf(pos)"
   ]
  },
  {
   "cell_type": "code",
   "execution_count": 324,
   "metadata": {},
   "outputs": [
    {
     "data": {
      "text/plain": [
       "<matplotlib.contour.QuadContourSet at 0x7f69ec780b50>"
      ]
     },
     "execution_count": 324,
     "metadata": {},
     "output_type": "execute_result"
    },
    {
     "data": {
      "image/png": "[encoded data removed]",
      "text/plain": [
       "<Figure size 432x288 with 1 Axes>"
      ]
     },
     "metadata": {
      "needs_background": "light"
     },
     "output_type": "display_data"
    }
   ],
   "source": [
    "plt.xlabel('w0')\n",
    "plt.ylabel('w1')\n",
    "plt.contourf(x, y, posterior)"
   ]
  },
  {
   "cell_type": "code",
   "execution_count": 291,
   "metadata": {},
   "outputs": [
    {
     "data": {
      "text/plain": [
       "0.7209986265041153"
      ]
     },
     "execution_count": 291,
     "metadata": {},
     "output_type": "execute_result"
    }
   ],
   "source": [
    "target[0]"
   ]
  },
  {
   "cell_type": "markdown",
   "metadata": {},
   "source": [
    "### data space and the position of first point"
   ]
  },
  {
   "cell_type": "code",
   "execution_count": 326,
   "metadata": {},
   "outputs": [
    {
     "data": {
      "image/png": "[encoded data removed]",
      "text/plain": [
       "<Figure size 432x288 with 1 Axes>"
      ]
     },
     "metadata": {
      "needs_background": "light"
     },
     "output_type": "display_data"
    }
   ],
   "source": [
    "cal_mean_covariance_and_plot(alpha, beta, input_point[0:1], target[0:1], x_input, no_of_samples, 5)"
   ]
  },
  {
   "cell_type": "markdown",
   "metadata": {},
   "source": [
    "### calculate the likelihood of second point"
   ]
  },
  {
   "cell_type": "code",
   "execution_count": 230,
   "metadata": {},
   "outputs": [
    {
     "name": "stdout",
     "output_type": "stream",
     "text": [
      "x: [[ 1.         -0.90591724]], target: 0.5074467144913904\n"
     ]
    }
   ],
   "source": [
    "likelihood_2nd = cal_likelihood(input_point[1].reshape(1,2), w, target[1], beta)"
   ]
  },
  {
   "cell_type": "code",
   "execution_count": 327,
   "metadata": {},
   "outputs": [
    {
     "data": {
      "image/png": "[encoded data removed]",
      "text/plain": [
       "<Figure size 432x288 with 1 Axes>"
      ]
     },
     "metadata": {
      "needs_background": "light"
     },
     "output_type": "display_data"
    }
   ],
   "source": [
    "plt.xlabel('w0')\n",
    "plt.ylabel('w1')\n",
    "plt.contourf(x, y, likelihood_2nd)"
   ]
  },
  {
   "cell_type": "code",
   "execution_count": 232,
   "metadata": {},
   "outputs": [],
   "source": [
    "posterior_2nd = likelihood_2nd*posterior"
   ]
  },
  {
   "cell_type": "markdown",
   "metadata": {},
   "source": [
    "### obtain current posterior by multiplying previous posterior and the likelihood of second point"
   ]
  },
  {
   "cell_type": "code",
   "execution_count": 329,
   "metadata": {},
   "outputs": [
    {
     "data": {
      "text/plain": [
       "<matplotlib.contour.QuadContourSet at 0x7f69ec565f10>"
      ]
     },
     "execution_count": 329,
     "metadata": {},
     "output_type": "execute_result"
    },
    {
     "data": {
      "image/png": "[encoded data removed]",
      "text/plain": [
       "<Figure size 432x288 with 1 Axes>"
      ]
     },
     "metadata": {
      "needs_background": "light"
     },
     "output_type": "display_data"
    }
   ],
   "source": [
    "plt.xlabel('w0')\n",
    "plt.ylabel('w1')\n",
    "plt.contourf(x, y, posterior_2nd)"
   ]
  },
  {
   "cell_type": "markdown",
   "metadata": {},
   "source": [
    "### data space and two points"
   ]
  },
  {
   "cell_type": "code",
   "execution_count": 330,
   "metadata": {},
   "outputs": [
    {
     "data": {
      "image/png": "[encoded data removed]",
      "text/plain": [
       "<Figure size 432x288 with 1 Axes>"
      ]
     },
     "metadata": {
      "needs_background": "light"
     },
     "output_type": "display_data"
    }
   ],
   "source": [
    "cal_mean_covariance_and_plot(alpha, beta, input_point[0:2], target[0:2], x_input, no_of_samples)"
   ]
  },
  {
   "cell_type": "code",
   "execution_count": 235,
   "metadata": {},
   "outputs": [],
   "source": [
    "current_posterior = posterior_2nd"
   ]
  },
  {
   "cell_type": "markdown",
   "metadata": {},
   "source": [
    "### after 20 points"
   ]
  },
  {
   "cell_type": "code",
   "execution_count": 236,
   "metadata": {},
   "outputs": [
    {
     "name": "stdout",
     "output_type": "stream",
     "text": [
      "x: [[ 1.         -0.60119929]], target: 0.804581830671292\n",
      "x: [[1.         0.96748312]], target: 0.5571465154036583\n",
      "x: [[1.         0.29355727]], target: 0.4692587552441554\n",
      "x: [[ 1.         -0.75058221]], target: 0.5941553821813444\n",
      "x: [[1.         0.95667753]], target: 0.5100607048417246\n",
      "x: [[1.         0.49842615]], target: 0.5876697523657793\n",
      "x: [[1.         0.30172896]], target: 0.24236735584777336\n",
      "x: [[ 1.         -0.01297195]], target: 0.40586828290652355\n",
      "x: [[1.         0.91537001]], target: 0.2252097914879351\n",
      "x: [[1.         0.66797775]], target: 0.06656877838220077\n",
      "x: [[ 1.         -0.43645036]], target: 1.18227907613772\n",
      "x: [[1.         0.49786742]], target: 0.4300084212481124\n",
      "x: [[1.        0.2567626]], target: 0.33946520161002375\n",
      "x: [[1.         0.84550699]], target: 0.25682051171510273\n",
      "x: [[1.         0.69058202]], target: 0.04753182312267498\n",
      "x: [[ 1.         -0.28671379]], target: 0.5077543259616351\n",
      "x: [[1.         0.25869122]], target: 0.42239644605316995\n",
      "x: [[1.         0.81221709]], target: 0.33105045929119914\n"
     ]
    }
   ],
   "source": [
    "for i in range(2,len(input_point)):\n",
    "    likelihood_ith = cal_likelihood(input_point[i].reshape(1,2), w, target[i], beta)\n",
    "    posterior_ith = likelihood_ith*current_posterior\n",
    "    current_posterior = posterior_ith"
   ]
  },
  {
   "cell_type": "markdown",
   "metadata": {},
   "source": [
    "### likelihood distribution of 20th point"
   ]
  },
  {
   "cell_type": "code",
   "execution_count": 331,
   "metadata": {},
   "outputs": [
    {
     "data": {
      "image/png": "[encoded data removed]",
      "text/plain": [
       "<Figure size 432x288 with 1 Axes>"
      ]
     },
     "metadata": {
      "needs_background": "light"
     },
     "output_type": "display_data"
    }
   ],
   "source": [
    "plt.xlabel('w0')\n",
    "plt.ylabel('w1')\n",
    "plt.contourf(x, y, likelihood_ith)\n",
    "plt.savefig('9.png', dpi=120)"
   ]
  },
  {
   "cell_type": "markdown",
   "metadata": {},
   "source": [
    "### plot the final posterior distribution\n",
    "### w = [-0.3, 0.5] has the highest probability"
   ]
  },
  {
   "cell_type": "code",
   "execution_count": 332,
   "metadata": {},
   "outputs": [
    {
     "data": {
      "image/png": "[encoded data removed]",
      "text/plain": [
       "<Figure size 432x288 with 1 Axes>"
      ]
     },
     "metadata": {
      "needs_background": "light"
     },
     "output_type": "display_data"
    }
   ],
   "source": [
    "plt.xlabel('w0')\n",
    "plt.ylabel('w1')\n",
    "plt.contourf(x, y, current_posterior)"
   ]
  },
  {
   "cell_type": "markdown",
   "metadata": {},
   "source": [
    "### the final data space"
   ]
  },
  {
   "cell_type": "code",
   "execution_count": 333,
   "metadata": {},
   "outputs": [
    {
     "data": {
      "image/png": "[encoded data removed]",
      "text/plain": [
       "<Figure size 432x288 with 1 Axes>"
      ]
     },
     "metadata": {
      "needs_background": "light"
     },
     "output_type": "display_data"
    }
   ],
   "source": [
    "cal_mean_covariance_and_plot(alpha, beta, input_point[0:], target[0:], x_input, no_of_samples)"
   ]
  },
  {
   "cell_type": "markdown",
   "metadata": {},
   "source": [
    "### show the eventual visualization"
   ]
  },
  {
   "cell_type": "markdown",
   "metadata": {},
   "source": [
    "<div class=\"row\">\n",
    "  <div class=\"column\">\n",
    "     <h3>Initial data space</h3>\n",
    "    <img src=\"2.png\" alt=\"Snow\" style=\"width:50%\">\n",
    "  </div>\n",
    "    <h3>Likelihood distribution of first point</h3>\n",
    "  <div class=\"column\">\n",
    "    <img src=\"3.png\" alt=\"Forest\" style=\"width:50%\">\n",
    "  </div>\n",
    "    <h3>Posterior distribution</h3>\n",
    "  <div class=\"column\">\n",
    "    <img src=\"4.png\" alt=\"Mountains\" style=\"width:50%\">\n",
    "  </div>\n",
    "    <h3>Data space and the position of first point</h3>\n",
    "  <div class=\"column\">\n",
    "    <img src=\"5.png\" alt=\"Mountains\" style=\"width:50%\">\n",
    "  </div>\n",
    "    <h3>Likelihood distribution of second point</h3>\n",
    "    <div class=\"column\">\n",
    "    <img src=\"6.png\" alt=\"Mountains\" style=\"width:50%\">\n",
    "  </div>\n",
    "    <h3>Posterior distribution</h3>\n",
    "  <div class=\"column\">\n",
    "    <img src=\"7.png\" alt=\"Mountains\" style=\"width:50%\">\n",
    "  </div>\n",
    "    <h3>Data space and the positions of first two points</h3>\n",
    "  <div class=\"column\">\n",
    "    <img src=\"8.png\" alt=\"Mountains\" style=\"width:50%\">\n",
    "  </div>\n",
    "    <h3>Likelihood distribution of 20th point</h3>\n",
    "    <div class=\"column\">\n",
    "    <img src=\"9.png\" alt=\"Mountains\" style=\"width:50%\">\n",
    "  </div>\n",
    "    <h3>Posterior distribution</h3>\n",
    "  <div class=\"column\">\n",
    "    <img src=\"10.png\" alt=\"Mountains\" style=\"width:50%\">\n",
    "  </div>\n",
    "    <h3>Data space and the positions of all 20 points</h3>\n",
    "  <div class=\"column\">\n",
    "    <img src=\"11.png\" alt=\"Mountains\" style=\"width:50%\">\n",
    "  </div>\n",
    "</div>"
   ]
  },
  {
   "cell_type": "code",
   "execution_count": null,
   "metadata": {},
   "outputs": [],
   "source": []
  }
 ],
 "metadata": {
  "kernelspec": {
   "display_name": "Python 3",
   "language": "python",
   "name": "python3"
  },
  "language_info": {
   "codemirror_mode": {
    "name": "ipython",
    "version": 3
   },
   "file_extension": ".py",
   "mimetype": "text/x-python",
   "name": "python",
   "nbconvert_exporter": "python",
   "pygments_lexer": "ipython3",
   "version": "3.7.6"
  }
 },
 "nbformat": 4,
 "nbformat_minor": 4
}
