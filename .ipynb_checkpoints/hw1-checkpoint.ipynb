{
 "cells": [
  {
   "cell_type": "markdown",
   "metadata": {},
   "source": [
    "### Machine Learning HW 1 Regression\n",
    "### Name: Chenxin Xiong\n",
    "###  ID: 168449"
   ]
  },
  {
   "cell_type": "code",
   "execution_count": 2,
   "metadata": {},
   "outputs": [],
   "source": [
    "import pandas as pd\n",
    "import numpy as np\n",
    "from sklearn.model_selection import train_test_split\n",
    "import matplotlib.pyplot as plt\n",
    "import statistics\n",
    "from numpy.linalg import inv"
   ]
  },
  {
   "cell_type": "code",
   "execution_count": 3,
   "metadata": {},
   "outputs": [],
   "source": [
    "# each row has two values which are seperated by a space\n",
    "data = pd.read_csv('data.txt', delimiter=' ', header=None)"
   ]
  },
  {
   "cell_type": "code",
   "execution_count": 4,
   "metadata": {},
   "outputs": [],
   "source": [
    "data.columns = ['x', 'y']"
   ]
  },
  {
   "cell_type": "code",
   "execution_count": 5,
   "metadata": {},
   "outputs": [
    {
     "data": {
      "text/html": [
       "<div>\n",
       "<style scoped>\n",
       "    .dataframe tbody tr th:only-of-type {\n",
       "        vertical-align: middle;\n",
       "    }\n",
       "\n",
       "    .dataframe tbody tr th {\n",
       "        vertical-align: top;\n",
       "    }\n",
       "\n",
       "    .dataframe thead th {\n",
       "        text-align: right;\n",
       "    }\n",
       "</style>\n",
       "<table border=\"1\" class=\"dataframe\">\n",
       "  <thead>\n",
       "    <tr style=\"text-align: right;\">\n",
       "      <th></th>\n",
       "      <th>x</th>\n",
       "      <th>y</th>\n",
       "    </tr>\n",
       "  </thead>\n",
       "  <tbody>\n",
       "    <tr>\n",
       "      <th>0</th>\n",
       "      <td>0.005</td>\n",
       "      <td>0.3843</td>\n",
       "    </tr>\n",
       "    <tr>\n",
       "      <th>1</th>\n",
       "      <td>0.010</td>\n",
       "      <td>0.5689</td>\n",
       "    </tr>\n",
       "    <tr>\n",
       "      <th>2</th>\n",
       "      <td>0.015</td>\n",
       "      <td>0.8537</td>\n",
       "    </tr>\n",
       "    <tr>\n",
       "      <th>3</th>\n",
       "      <td>0.020</td>\n",
       "      <td>0.7009</td>\n",
       "    </tr>\n",
       "    <tr>\n",
       "      <th>4</th>\n",
       "      <td>0.025</td>\n",
       "      <td>0.9686</td>\n",
       "    </tr>\n",
       "  </tbody>\n",
       "</table>\n",
       "</div>"
      ],
      "text/plain": [
       "       x       y\n",
       "0  0.005  0.3843\n",
       "1  0.010  0.5689\n",
       "2  0.015  0.8537\n",
       "3  0.020  0.7009\n",
       "4  0.025  0.9686"
      ]
     },
     "execution_count": 5,
     "metadata": {},
     "output_type": "execute_result"
    }
   ],
   "source": [
    "data.head()"
   ]
  },
  {
   "cell_type": "code",
   "execution_count": 6,
   "metadata": {},
   "outputs": [
    {
     "data": {
      "text/plain": [
       "count    2000.000000\n",
       "mean        5.002500\n",
       "std         2.887473\n",
       "min         0.005000\n",
       "25%         2.503750\n",
       "50%         5.002500\n",
       "75%         7.501250\n",
       "max        10.000000\n",
       "Name: x, dtype: float64"
      ]
     },
     "execution_count": 6,
     "metadata": {},
     "output_type": "execute_result"
    }
   ],
   "source": [
    "data['x'].describe()"
   ]
  },
  {
   "cell_type": "code",
   "execution_count": 7,
   "metadata": {},
   "outputs": [],
   "source": [
    "x = np.array(data['x'])\n",
    "Y = np.array(data['y'])"
   ]
  },
  {
   "cell_type": "code",
   "execution_count": 9,
   "metadata": {},
   "outputs": [],
   "source": [
    "x_train_o, x_test_o, Y_train, Y_test = train_test_split(x, Y, test_size=0.2, shuffle=True)"
   ]
  },
  {
   "cell_type": "markdown",
   "metadata": {},
   "source": [
    "### preview the trend of training data"
   ]
  },
  {
   "cell_type": "code",
   "execution_count": 10,
   "metadata": {},
   "outputs": [
    {
     "data": {
      "image/png": "[encoded data removed]",
      "text/plain": [
       "<Figure size 432x288 with 1 Axes>"
      ]
     },
     "metadata": {
      "needs_background": "light"
     },
     "output_type": "display_data"
    }
   ],
   "source": [
    "plt.plot(x_train_o, Y_train, 'o', color='black');"
   ]
  },
  {
   "cell_type": "markdown",
   "metadata": {},
   "source": [
    "### use more Gaussian basic functions, 10 is not enough, try more"
   ]
  },
  {
   "cell_type": "code",
   "execution_count": 43,
   "metadata": {},
   "outputs": [],
   "source": [
    "def Gaussian_basic_function_v2(data):\n",
    "    data_list = []\n",
    "    mean_list = np.arange(0.5, 10, 1)\n",
    "    variance = 0.5\n",
    "    for miu in mean_list:\n",
    "        gaussian = np.exp(-(data-miu)**2/(2*variance))\n",
    "        data_list.append(gaussian)\n",
    "    # 10 times 1600\n",
    "    return np.array(data_list)"
   ]
  },
  {
   "cell_type": "code",
   "execution_count": 12,
   "metadata": {},
   "outputs": [],
   "source": [
    "def sigmoid(x):\n",
    "    return 1/(1+np.exp(-x))"
   ]
  },
  {
   "cell_type": "code",
   "execution_count": 13,
   "metadata": {},
   "outputs": [],
   "source": [
    "def Gaussian_basic_function(data):\n",
    "    miu = statistics.mean(data)\n",
    "    variance = statistics.variance(data)\n",
    "    return np.exp(-(data-miu)**2/(2*variance))"
   ]
  },
  {
   "cell_type": "code",
   "execution_count": 14,
   "metadata": {},
   "outputs": [],
   "source": [
    "def Sigmoid_basic_function(data):\n",
    "    miu = statistics.mean(data)\n",
    "    variance = statistics.variance(data)\n",
    "    return sigmoid((data-miu)/np.sqrt(variance))"
   ]
  },
  {
   "cell_type": "code",
   "execution_count": 15,
   "metadata": {},
   "outputs": [],
   "source": [
    "def Polynomial_basic_function(data, degree):\n",
    "    li = []\n",
    "    for i in range(1, degree+1):\n",
    "        li.append(data**i)\n",
    "    return np.transpose(li)"
   ]
  },
  {
   "cell_type": "code",
   "execution_count": 25,
   "metadata": {},
   "outputs": [],
   "source": [
    "def plot_loss_curve(loss_list,title='Loss during training',loss_curve_save_path=None):\n",
    "    plt.plot(loss_list)\n",
    "    plt.title(title)\n",
    "    plt.xlabel('Iteration')\n",
    "    plt.ylabel('MSE')\n",
    "    if loss_curve_save_path:\n",
    "        plt.savefig('{}.png'.format(loss_curve_save_path), dpi=120)\n",
    "    # show the loss curve\n",
    "    # every point shows the loss of one batch\n",
    "    plt.show()"
   ]
  },
  {
   "cell_type": "code",
   "execution_count": 26,
   "metadata": {},
   "outputs": [],
   "source": [
    "def plot_validation_result(y_true, y_predicted, label='Validation', validation_save_path=None):  \n",
    "    plt.plot(y_true, y_predicted, 'co', label=label, alpha=0.3)\n",
    "    plt.plot(y_true, y_true, 'r--', label='y = x', alpha=0.5)\n",
    "    plt.xlabel('True')\n",
    "    plt.ylabel('Predictions')\n",
    "    plt.legend(loc='best')\n",
    "    if validation_save_path:\n",
    "        plt.savefig('{}.png'.format(validation_save_path), dpi=120)\n",
    "    plt.show()"
   ]
  },
  {
   "cell_type": "markdown",
   "metadata": {},
   "source": [
    "### Gaussian basic function"
   ]
  },
  {
   "cell_type": "code",
   "execution_count": 17,
   "metadata": {},
   "outputs": [],
   "source": [
    "gaussian = Gaussian_basic_function(x_train_o)"
   ]
  },
  {
   "cell_type": "markdown",
   "metadata": {},
   "source": [
    "### Multiple variant Guassian basic functions"
   ]
  },
  {
   "cell_type": "code",
   "execution_count": 48,
   "metadata": {},
   "outputs": [
    {
     "data": {
      "text/plain": [
       "(10, 1600)"
      ]
     },
     "execution_count": 48,
     "metadata": {},
     "output_type": "execute_result"
    }
   ],
   "source": [
    "Gaussian_basic_function_v2(x_train_o).shape"
   ]
  },
  {
   "cell_type": "markdown",
   "metadata": {},
   "source": [
    "### Sigmoid basic function"
   ]
  },
  {
   "cell_type": "code",
   "execution_count": 18,
   "metadata": {},
   "outputs": [],
   "source": [
    "sig = Sigmoid_basic_function(x_train_o)"
   ]
  },
  {
   "cell_type": "markdown",
   "metadata": {},
   "source": [
    "### Polynomial function"
   ]
  },
  {
   "cell_type": "code",
   "execution_count": 48,
   "metadata": {},
   "outputs": [],
   "source": [
    "poly = Polynomial_basic_function(x_train_o, 8)\n",
    "poly = np.sum(poly, axis=1)"
   ]
  },
  {
   "cell_type": "code",
   "execution_count": null,
   "metadata": {},
   "outputs": [],
   "source": [
    "# add basic function"
   ]
  },
  {
   "cell_type": "code",
   "execution_count": 69,
   "metadata": {},
   "outputs": [],
   "source": [
    "ones = np.ones((1, len(x_train_o)))"
   ]
  },
  {
   "cell_type": "code",
   "execution_count": 77,
   "metadata": {},
   "outputs": [],
   "source": [
    "ones_test = np.ones((1, len(x_test_o)))"
   ]
  },
  {
   "cell_type": "code",
   "execution_count": 70,
   "metadata": {},
   "outputs": [
    {
     "data": {
      "text/plain": [
       "(1, 1600)"
      ]
     },
     "execution_count": 70,
     "metadata": {},
     "output_type": "execute_result"
    }
   ],
   "source": [
    "ones.shape"
   ]
  },
  {
   "cell_type": "code",
   "execution_count": 74,
   "metadata": {},
   "outputs": [],
   "source": [
    "x_train = np.concatenate((ones, Gaussian_basic_function_v2(x_train_o)), axis=0).T"
   ]
  },
  {
   "cell_type": "code",
   "execution_count": 75,
   "metadata": {},
   "outputs": [
    {
     "data": {
      "text/plain": [
       "(1600, 11)"
      ]
     },
     "execution_count": 75,
     "metadata": {},
     "output_type": "execute_result"
    }
   ],
   "source": [
    "x_train.shape"
   ]
  },
  {
   "cell_type": "code",
   "execution_count": 78,
   "metadata": {},
   "outputs": [],
   "source": [
    "x_test = np.concatenate((ones_test, Gaussian_basic_function_v2(x_test_o)), axis=0).T"
   ]
  },
  {
   "cell_type": "code",
   "execution_count": 79,
   "metadata": {},
   "outputs": [
    {
     "data": {
      "text/plain": [
       "(400, 11)"
      ]
     },
     "execution_count": 79,
     "metadata": {},
     "output_type": "execute_result"
    }
   ],
   "source": [
    "x_test.shape"
   ]
  },
  {
   "cell_type": "code",
   "execution_count": 87,
   "metadata": {},
   "outputs": [],
   "source": [
    "iteration_time = 50000\n",
    "learning_rate = 0.0001\n",
    "# first is bais second is weight\n",
    "w = np.random.rand(x_train.shape[1])\n",
    "train_error_list = []\n",
    "test_error_list = []"
   ]
  },
  {
   "cell_type": "markdown",
   "metadata": {},
   "source": [
    "### 1. batch gradient descent algorithm implementation"
   ]
  },
  {
   "cell_type": "code",
   "execution_count": 89,
   "metadata": {},
   "outputs": [],
   "source": [
    "for i in range(iteration_time):\n",
    "    y_predict = np.matmul(x_train, w)\n",
    "    # calculate mean square error\n",
    "    diff = Y_train_o - y_predict\n",
    "    mse = (1/2)*(diff**2).mean()\n",
    "    # mean square error\n",
    "#     rmse = np.sqrt(mse)\n",
    "    train_error_list.append(mse)\n",
    "    # backpropogation\n",
    "#     gradient = (1/2) * (me ** (-1/2)) * np.matmul(x_train.T, -diff)\n",
    "    gradient = np.matmul(x_train.T, -diff) / len(x_train)\n",
    "    # update weight\n",
    "    w = w - learning_rate * gradient\n",
    "    # evaluate\n",
    "    y_test_predict = np.matmul(x_test, w)\n",
    "    test_error = np.sqrt(((y_test_predict - Y_test)**2).mean())\n",
    "    test_error_list.append(test_error)\n",
    "#     print('{} iteration, training MSE: {:.4f}, test MSE: {:.4f}'.format(i+1, mse, test_error))"
   ]
  },
  {
   "cell_type": "markdown",
   "metadata": {},
   "source": [
    "### a)\tShow the decreasing of error function with the increasing of iteration numbers."
   ]
  },
  {
   "cell_type": "code",
   "execution_count": 90,
   "metadata": {},
   "outputs": [
    {
     "data": {
      "image/png": "[encoded data removed]",
      "text/plain": [
       "<Figure size 432x288 with 1 Axes>"
      ]
     },
     "metadata": {
      "needs_background": "light"
     },
     "output_type": "display_data"
    }
   ],
   "source": [
    "plot_loss_curve(train_error_list)"
   ]
  },
  {
   "cell_type": "markdown",
   "metadata": {},
   "source": [
    "### b)\tGive the results of obtained coefficient, w"
   ]
  },
  {
   "cell_type": "code",
   "execution_count": 92,
   "metadata": {},
   "outputs": [
    {
     "data": {
      "text/plain": [
       "array([-0.71613778,  0.57345214,  0.48894223,  0.63697307,  0.30829205,\n",
       "        0.13893478,  0.61860147,  0.13075391,  0.66117304,  0.47900538,\n",
       "        0.51550342])"
      ]
     },
     "execution_count": 92,
     "metadata": {},
     "output_type": "execute_result"
    }
   ],
   "source": [
    "w"
   ]
  },
  {
   "cell_type": "markdown",
   "metadata": {},
   "source": [
    "### c)\tShow the predicted  f(x) when applying the learned regression function on testing data x, and compare it with the corresponding actual target  t  on the same figure;\n",
    "\n",
    "black shows the test points and blue line shows the predicted points"
   ]
  },
  {
   "cell_type": "code",
   "execution_count": 91,
   "metadata": {},
   "outputs": [
    {
     "data": {
      "image/png": "[encoded data removed]",
      "text/plain": [
       "<Figure size 432x288 with 1 Axes>"
      ]
     },
     "metadata": {
      "needs_background": "light"
     },
     "output_type": "display_data"
    }
   ],
   "source": [
    "plt.plot(x_test_o, Y_test, 'o', color='black');\n",
    "plt.plot(x_test_o, y_test_predict, 'o', color='blue');"
   ]
  },
  {
   "cell_type": "code",
   "execution_count": 85,
   "metadata": {},
   "outputs": [
    {
     "data": {
      "image/png": "[encoded data removed]",
      "text/plain": [
       "<Figure size 432x288 with 1 Axes>"
      ]
     },
     "metadata": {
      "needs_background": "light"
     },
     "output_type": "display_data"
    }
   ],
   "source": [
    "plot_validation_result(Y_test, y_test_predict)"
   ]
  },
  {
   "cell_type": "markdown",
   "metadata": {},
   "source": [
    "### d)\tWhat is the Root-Mean-Square Error on test set?"
   ]
  },
  {
   "cell_type": "code",
   "execution_count": 93,
   "metadata": {},
   "outputs": [
    {
     "data": {
      "text/plain": [
       "0.585158178916434"
      ]
     },
     "execution_count": 93,
     "metadata": {},
     "output_type": "execute_result"
    }
   ],
   "source": [
    "test_error"
   ]
  },
  {
   "cell_type": "markdown",
   "metadata": {},
   "source": [
    "### 2. stochastic gradient descent "
   ]
  },
  {
   "cell_type": "code",
   "execution_count": 126,
   "metadata": {},
   "outputs": [],
   "source": [
    "w_1 = np.random.rand(x_train.shape[1])\n",
    "train_error_list_1 = []\n",
    "test_error_list_1 = []"
   ]
  },
  {
   "cell_type": "code",
   "execution_count": 127,
   "metadata": {},
   "outputs": [],
   "source": [
    "# 3200\n",
    "for _ in range(20):\n",
    "    for i in range(len(x_train)):\n",
    "        y_predict = np.matmul(x_train[i], w_1)\n",
    "        # calculate mean square error\n",
    "        diff = Y_train[i] - y_predict\n",
    "        mse = (1/2)*(diff**2).mean()\n",
    "        # mean square error\n",
    "    #     mse = np.square(me)\n",
    "        train_error_list_1.append(mse)\n",
    "        # backpropogation\n",
    "    #     gradient = (1/2) * (me ** (-1/2)) * np.matmul(x_train.T, -diff)\n",
    "        gradient = x_train[i].T * (-diff)\n",
    "        # update weight\n",
    "        w_1 = w_1 - learning_rate * gradient\n",
    "        # evaluate\n",
    "        y_test_predict_1 = np.matmul(x_test, w_1)\n",
    "        test_error_1 = np.sqrt(((y_test_predict_1 - Y_test)**2).mean())\n",
    "        test_error_list_1.append(test_error_1)\n",
    "    #     print('{} iteration, training MSE: {:.4f}, test MSE: {:.4f}'.format(i+1, mse, test_error))"
   ]
  },
  {
   "cell_type": "markdown",
   "metadata": {},
   "source": [
    "### a)\tShow the decreasing of error function with the increasing number of used data points. "
   ]
  },
  {
   "cell_type": "code",
   "execution_count": 128,
   "metadata": {},
   "outputs": [
    {
     "data": {
      "image/png": "[encoded data removed]",
      "text/plain": [
       "<Figure size 432x288 with 1 Axes>"
      ]
     },
     "metadata": {
      "needs_background": "light"
     },
     "output_type": "display_data"
    }
   ],
   "source": [
    "plot_loss_curve(train_error_list_1)"
   ]
  },
  {
   "cell_type": "markdown",
   "metadata": {},
   "source": [
    "### b)\tGive the results of obtained coefficient, w"
   ]
  },
  {
   "cell_type": "code",
   "execution_count": 131,
   "metadata": {},
   "outputs": [
    {
     "data": {
      "text/plain": [
       "array([-0.42871357,  0.71479112,  0.36946319,  0.26916153,  0.02874071,\n",
       "        0.60291094,  0.04278795,  0.0387766 ,  0.68984216,  0.05891337,\n",
       "        0.19117328])"
      ]
     },
     "execution_count": 131,
     "metadata": {},
     "output_type": "execute_result"
    }
   ],
   "source": [
    "w_1"
   ]
  },
  {
   "cell_type": "markdown",
   "metadata": {},
   "source": [
    "### c)\tShow the predicted  f(x) when applying the learned regression function on testing data x, and compare it with the corresponding actual target  t  on the same figure;"
   ]
  },
  {
   "cell_type": "code",
   "execution_count": 129,
   "metadata": {},
   "outputs": [
    {
     "data": {
      "image/png": "[encoded data removed]",
      "text/plain": [
       "<Figure size 432x288 with 1 Axes>"
      ]
     },
     "metadata": {
      "needs_background": "light"
     },
     "output_type": "display_data"
    }
   ],
   "source": [
    "plt.plot(x_test_o, Y_test, 'o', color='black');\n",
    "plt.plot(x_test_o, y_test_predict_1, 'o', color='blue');"
   ]
  },
  {
   "cell_type": "code",
   "execution_count": 130,
   "metadata": {},
   "outputs": [
    {
     "data": {
      "image/png": "[encoded data removed]",
      "text/plain": [
       "<Figure size 432x288 with 1 Axes>"
      ]
     },
     "metadata": {
      "needs_background": "light"
     },
     "output_type": "display_data"
    }
   ],
   "source": [
    "plot_validation_result(Y_test, y_test_predict_1)"
   ]
  },
  {
   "cell_type": "markdown",
   "metadata": {},
   "source": [
    "### d)\tWhat is the Root-Mean-Square Error on test set?"
   ]
  },
  {
   "cell_type": "code",
   "execution_count": 132,
   "metadata": {},
   "outputs": [
    {
     "data": {
      "text/plain": [
       "0.5414068580617358"
      ]
     },
     "execution_count": 132,
     "metadata": {},
     "output_type": "execute_result"
    }
   ],
   "source": [
    "test_error_1"
   ]
  },
  {
   "cell_type": "markdown",
   "metadata": {},
   "source": [
    "### 3. maximum likelihood"
   ]
  },
  {
   "cell_type": "code",
   "execution_count": 110,
   "metadata": {},
   "outputs": [],
   "source": [
    "weights = np.matmul(np.matmul(inv(np.matmul(x_train.T, x_train)), x_train.T), Y_train)"
   ]
  },
  {
   "cell_type": "markdown",
   "metadata": {},
   "source": [
    "### a)\tGive the results of obtained coefficient, w"
   ]
  },
  {
   "cell_type": "code",
   "execution_count": 111,
   "metadata": {},
   "outputs": [
    {
     "data": {
      "text/plain": [
       "array([ 2.98371496, -1.96022321, -1.68207048, -1.57584602, -1.78851868,\n",
       "       -1.55849419, -1.86037765, -1.37681471, -2.12471376, -1.02530728,\n",
       "       -2.74622893])"
      ]
     },
     "execution_count": 111,
     "metadata": {},
     "output_type": "execute_result"
    }
   ],
   "source": [
    "weights"
   ]
  },
  {
   "cell_type": "markdown",
   "metadata": {},
   "source": [
    "### b)\tCompare the value of w obtained at (1) and (2) by gradient descent algorithm, and (3) by maximum likelihood"
   ]
  },
  {
   "cell_type": "code",
   "execution_count": 92,
   "metadata": {},
   "outputs": [
    {
     "data": {
      "text/plain": [
       "array([-0.71613778,  0.57345214,  0.48894223,  0.63697307,  0.30829205,\n",
       "        0.13893478,  0.61860147,  0.13075391,  0.66117304,  0.47900538,\n",
       "        0.51550342])"
      ]
     },
     "execution_count": 92,
     "metadata": {},
     "output_type": "execute_result"
    }
   ],
   "source": [
    "# (1)\n",
    "w"
   ]
  },
  {
   "cell_type": "code",
   "execution_count": 131,
   "metadata": {},
   "outputs": [
    {
     "data": {
      "text/plain": [
       "array([-0.42871357,  0.71479112,  0.36946319,  0.26916153,  0.02874071,\n",
       "        0.60291094,  0.04278795,  0.0387766 ,  0.68984216,  0.05891337,\n",
       "        0.19117328])"
      ]
     },
     "execution_count": 131,
     "metadata": {},
     "output_type": "execute_result"
    }
   ],
   "source": [
    "# (2)\n",
    "w_1"
   ]
  },
  {
   "cell_type": "code",
   "execution_count": 111,
   "metadata": {},
   "outputs": [
    {
     "data": {
      "text/plain": [
       "array([ 2.98371496, -1.96022321, -1.68207048, -1.57584602, -1.78851868,\n",
       "       -1.55849419, -1.86037765, -1.37681471, -2.12471376, -1.02530728,\n",
       "       -2.74622893])"
      ]
     },
     "execution_count": 111,
     "metadata": {},
     "output_type": "execute_result"
    }
   ],
   "source": [
    "# (3)\n",
    "weights"
   ]
  },
  {
   "cell_type": "code",
   "execution_count": 112,
   "metadata": {},
   "outputs": [],
   "source": [
    "y_test_predict_2 = np.matmul(x_test, weights)\n",
    "test_error_2 = np.sqrt(((y_test_predict_2 - Y_test)**2).mean())"
   ]
  },
  {
   "cell_type": "markdown",
   "metadata": {},
   "source": [
    "### c)\tShow the predicted  f(x) when applying the learned regression function on testing data x, and compare it with the corresponding actual target  t  on the same figure;"
   ]
  },
  {
   "cell_type": "code",
   "execution_count": 116,
   "metadata": {},
   "outputs": [
    {
     "data": {
      "image/png": "[encoded data removed]",
      "text/plain": [
       "<Figure size 432x288 with 1 Axes>"
      ]
     },
     "metadata": {
      "needs_background": "light"
     },
     "output_type": "display_data"
    }
   ],
   "source": [
    "plt.plot(x_test_o, Y_test, 'o', color='black');\n",
    "plt.plot(x_test_o, y_test_predict_2, 'o', color='blue');"
   ]
  },
  {
   "cell_type": "code",
   "execution_count": 113,
   "metadata": {},
   "outputs": [
    {
     "data": {
      "image/png": "[encoded data removed]",
      "text/plain": [
       "<Figure size 432x288 with 1 Axes>"
      ]
     },
     "metadata": {
      "needs_background": "light"
     },
     "output_type": "display_data"
    }
   ],
   "source": [
    "plot_validation_result(Y_test, y_test_predict_2)"
   ]
  },
  {
   "cell_type": "markdown",
   "metadata": {},
   "source": [
    "### d)\tWhat is the Root-Mean-Square Error on test set? Which method has the best performance? Batch gradient descent, stochastic gradient descent or maximum likelihood?\n",
    "\n",
    "maximum likelihood has the best performance"
   ]
  },
  {
   "cell_type": "code",
   "execution_count": 114,
   "metadata": {},
   "outputs": [
    {
     "data": {
      "text/plain": [
       "0.4622374572563262"
      ]
     },
     "execution_count": 114,
     "metadata": {},
     "output_type": "execute_result"
    }
   ],
   "source": [
    "test_error_2"
   ]
  }
 ],
 "metadata": {
  "kernelspec": {
   "display_name": "Python 3",
   "language": "python",
   "name": "python3"
  },
  "language_info": {
   "codemirror_mode": {
    "name": "ipython",
    "version": 3
   },
   "file_extension": ".py",
   "mimetype": "text/x-python",
   "name": "python",
   "nbconvert_exporter": "python",
   "pygments_lexer": "ipython3",
   "version": "3.7.6"
  }
 },
 "nbformat": 4,
 "nbformat_minor": 4
}
